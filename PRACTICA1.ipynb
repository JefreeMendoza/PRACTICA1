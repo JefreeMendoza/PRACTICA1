{
 "cells": [
  {
   "cell_type": "markdown",
   "id": "caeb7533-0c13-40e1-9afd-b261607b5789",
   "metadata": {},
   "source": [
    "# AUTOR: JEFREE MENDOZA MIRANDA"
   ]
  },
  {
   "cell_type": "markdown",
   "id": "358d2836-62ab-4236-9dac-094cce9b4fdb",
   "metadata": {},
   "source": [
    "# Variables:"
   ]
  },
  {
   "cell_type": "markdown",
   "id": "949af1b4-e78d-4c95-982e-b1b14f340d8c",
   "metadata": {},
   "source": [
    "# Problema 1:\n",
    "Escribir un programa que solicite su nombre de usuario por consola y después de que el usuario lo\n",
    "introduzca muestre por pantalla la cadena “¡Hola <nombre>!”, donde <nombre> es el nombre que el\n",
    "usuario haya introducido."
   ]
  },
  {
   "cell_type": "markdown",
   "id": "cd09fa51-7382-4f17-94d8-33b00b3d6376",
   "metadata": {},
   "source": [
    "# Solucion:"
   ]
  },
  {
   "cell_type": "code",
   "execution_count": 7,
   "id": "74f0ae56-533b-4988-80d8-0a85e0cb6ea0",
   "metadata": {},
   "outputs": [
    {
     "name": "stdin",
     "output_type": "stream",
     "text": [
      "Ingrese su nombre:  Jefree Mendoza \n"
     ]
    },
    {
     "name": "stdout",
     "output_type": "stream",
     "text": [
      "Hola Jefree Mendoza \n"
     ]
    }
   ],
   "source": [
    "nombre=input(\"Ingrese su nombre: \")\n",
    "print(f\"Hola {nombre}\")"
   ]
  },
  {
   "cell_type": "markdown",
   "id": "68acf010-1ab7-4842-97f0-bbaedb1fb266",
   "metadata": {},
   "source": [
    "# Problema 2:\n",
    "En los Estados Unidos, se acostumbra dejar una propina a su mesero después de cenar en un\n",
    "restaurante, generalmente una cantidad igual al 15% o más del costo de su comida.\n",
    "Escriba un programa que pregunte al usuario cuánto fue su consumo en el restaurante y que\n",
    "porcentaje de propina desea dejar al mesero. Su programa debe devolver la cantidad de dinero a\n",
    "dejar como propina."
   ]
  },
  {
   "cell_type": "markdown",
   "id": "7683e30e-f478-4a38-adf4-634700a8180d",
   "metadata": {},
   "source": [
    "# Solucion:"
   ]
  },
  {
   "cell_type": "code",
   "execution_count": 2,
   "id": "cadc3c91-d9ef-45ae-8646-478797c5ea05",
   "metadata": {},
   "outputs": [
    {
     "name": "stdin",
     "output_type": "stream",
     "text": [
      "Ingrese cuanto fue su consumo:  150\n"
     ]
    },
    {
     "name": "stdout",
     "output_type": "stream",
     "text": [
      "La cantidad total de propina que debe dejar es: 22.5\n"
     ]
    }
   ],
   "source": [
    "consumo= float(input(\"Ingrese cuanto fue su consumo: \"))\n",
    "propina= consumo*0.15\n",
    "print(f\"La cantidad total de propina que debe dejar es: {propina}\")"
   ]
  },
  {
   "cell_type": "markdown",
   "id": "1d2c09db-d4c8-4c99-8b3b-04a32fada6a0",
   "metadata": {},
   "source": [
    "# Problema 3:\n",
    "Una juguetería tiene mucho éxito en dos de sus productos: payasos y muñecas. Suele hacer venta\n",
    "por correo y la empresa de logística les cobra por peso de cada paquete así que deben calcular el\n",
    "peso de los payasos y muñecas que saldrán en cada paquete a demanda. Cada payaso pesa 112 g y\n",
    "cada muñeca 75 g. Escribir un programa que lea el número de payasos y muñecas vendidos en el\n",
    "último pedido y calcule el peso total del paquete que será enviado."
   ]
  },
  {
   "cell_type": "markdown",
   "id": "9a033d32-84af-4c9a-a482-e8e7ef8a5ad8",
   "metadata": {},
   "source": [
    "# Solucion:"
   ]
  },
  {
   "cell_type": "code",
   "execution_count": 6,
   "id": "92b441ed-2937-43c2-89cf-e433a0a34f9d",
   "metadata": {},
   "outputs": [
    {
     "name": "stdout",
     "output_type": "stream",
     "text": [
      "BIENVENIDO A LA JUGUETERIA\n",
      "Productos a llevar...\n"
     ]
    },
    {
     "name": "stdin",
     "output_type": "stream",
     "text": [
      "Ingrese cuantos payasos desea:  2\n",
      "Ingrese cuantos muñecas desea:  1\n"
     ]
    },
    {
     "name": "stdout",
     "output_type": "stream",
     "text": [
      "Usted esta llevando 2 y el peso es de 224g\n",
      "Usted esta llevando 1 y el peso es de 75g\n",
      "El peso total del paquete a enviar es de: 299g\n"
     ]
    }
   ],
   "source": [
    "print(\"BIENVENIDO A LA JUGUETERIA\")\n",
    "print(\"Productos a llevar...\")\n",
    "payasos= int(input(\"Ingrese cuantos payasos desea: \"))\n",
    "muñecas= int(input(\"Ingrese cuantos muñecas desea: \"))\n",
    "\n",
    "pesoPayasos= 112 * payasos\n",
    "pesoMuñecas= 75 * muñecas\n",
    "\n",
    "pesoTotal= pesoPayasos + pesoMuñecas\n",
    "\n",
    "print(f\"Usted esta llevando {payasos} y el peso es de {pesoPayasos}g\")\n",
    "print(f\"Usted esta llevando {muñecas} y el peso es de {pesoMuñecas}g\")\n",
    "\n",
    "print(f\"El peso total del paquete a enviar es de: {pesoTotal}g\")\n"
   ]
  },
  {
   "cell_type": "markdown",
   "id": "b437271f-f9c3-4c8d-9125-1e69f590ba03",
   "metadata": {},
   "source": [
    "# Problema 4:\n",
    "Escribir un programa que lea un entero positivo, N, introducido por el usuario y después muestre en\n",
    "pantalla la suma de todos los enteros desde 1 hasta N. La suma de los N primeros enteros positivos\n",
    "puede ser calculada de la siguiente forma: n(n+1)/2\n"
   ]
  },
  {
   "cell_type": "markdown",
   "id": "daf7bb22-7a07-45a3-abd5-d754cdd9a677",
   "metadata": {},
   "source": [
    "# Solucion:"
   ]
  },
  {
   "cell_type": "code",
   "execution_count": 8,
   "id": "89b72019-ae81-485a-8fd0-8ab1af585339",
   "metadata": {},
   "outputs": [
    {
     "name": "stdout",
     "output_type": "stream",
     "text": [
      "...Suma de los N primeros enteros positivos... \n"
     ]
    },
    {
     "name": "stdin",
     "output_type": "stream",
     "text": [
      "Ingrese un numero entero positivo:  5\n"
     ]
    },
    {
     "name": "stdout",
     "output_type": "stream",
     "text": [
      "La suma de los primeros numeros enteros positivos hasta 5 es: 15.0\n"
     ]
    }
   ],
   "source": [
    "print(\"...Suma de los N primeros enteros positivos... \")\n",
    "numero=int(input(\"Ingrese un numero entero positivo: \"))\n",
    "\n",
    "suma= (numero*(numero+1))/2\n",
    "\n",
    "print(f\"La suma de los primeros numeros enteros positivos hasta {numero} es: {suma}\")"
   ]
  },
  {
   "cell_type": "markdown",
   "id": "73ac1551-a10d-47de-a755-cdba4d5ce8cd",
   "metadata": {},
   "source": [
    "# Problema 5:\n",
    "Escribir un programa que solicite al usuario que ingrese cuántos shows musicales ha visto en el\n",
    "último año y almacene ese número en una variable. A continuación, mostrar en pantalla un valor de\n",
    "verdad (True o False - tipo de datos booleanos) que indique si el usuario ha visto más de 3 shows."
   ]
  },
  {
   "cell_type": "markdown",
   "id": "8685099a-e9fd-4888-90c6-225681b7a018",
   "metadata": {},
   "source": [
    "# Solucion:"
   ]
  },
  {
   "cell_type": "code",
   "execution_count": 11,
   "id": "5392fe35-97de-415d-b0f0-ae37bd86b92b",
   "metadata": {},
   "outputs": [
    {
     "name": "stdin",
     "output_type": "stream",
     "text": [
      "Ingrese cuantos shows ha visto este ultimo año:  4\n"
     ]
    },
    {
     "data": {
      "text/plain": [
       "True"
      ]
     },
     "execution_count": 11,
     "metadata": {},
     "output_type": "execute_result"
    }
   ],
   "source": [
    "shows=int(input(\"Ingrese cuantos shows ha visto este ultimo año: \"))\n",
    "\n",
    "shows > 3"
   ]
  },
  {
   "cell_type": "markdown",
   "id": "72e58618-b608-45b2-8ccc-67b9b3bf6dc4",
   "metadata": {},
   "source": [
    "# Problema 6:\n",
    "Escribir un programa para una empresa que tiene salas de juegos para todas las edades y quiere\n",
    "calcular de forma automática el precio que debe cobrar a sus clientes por entrar. El programa debe\n",
    "preguntar al usuario la edad del cliente y mostrar el precio de la entrada. Si el cliente es menor de 4\n",
    "años puede entrar gratis, si tiene entre 4 y 18 años debe pagar $5 y si es mayor de 18 años, S10."
   ]
  },
  {
   "cell_type": "markdown",
   "id": "55c12534-5e0d-4935-8817-e62029be3cbf",
   "metadata": {},
   "source": [
    "# Solucion:"
   ]
  },
  {
   "cell_type": "code",
   "execution_count": 14,
   "id": "5f050e89-4714-48c2-b8a2-a41f9e1c724b",
   "metadata": {},
   "outputs": [
    {
     "name": "stdout",
     "output_type": "stream",
     "text": [
      "Bienvenido a la sala de JUEGOS.\n"
     ]
    },
    {
     "name": "stdin",
     "output_type": "stream",
     "text": [
      "Ingrese su edad:  22\n"
     ]
    },
    {
     "name": "stdout",
     "output_type": "stream",
     "text": [
      "Su entrada cuesta s/.10.00\n",
      "Gracias por su visita.\n"
     ]
    }
   ],
   "source": [
    "print(\"Bienvenido a la sala de JUEGOS.\")\n",
    "\n",
    "edad= int(input(\"Ingrese su edad: \"))\n",
    "\n",
    "if edad < 4:\n",
    "    print(\"Usuario su entrada es GRATIS\")\n",
    "elif edad>= 4 and edad <= 18:\n",
    "    print(\"Su entrada cuesta s/.5.00\")\n",
    "elif edad> 18:\n",
    "    print(\"Su entrada cuesta s/.10.00\")\n",
    "\n",
    "print(\"Gracias por su visita.\")\n",
    "    "
   ]
  },
  {
   "cell_type": "markdown",
   "id": "150a2006-6574-46d8-a6bf-a6202afd7e8a",
   "metadata": {},
   "source": [
    "# Problema 7:\n",
    "Realiza un programa que lea dos números por teclado y permite elegir entre 3 opciones en un menú:\n",
    "- Mostrar una suma de los dos números\n",
    "- Mostrar una resta de los dos números (el primero menos el segundo)\n",
    "- Mostrar una multiplicación de los dos números\n",
    "- En caso de introducir una opción inválida, el programa informará de que no es correcta."
   ]
  },
  {
   "cell_type": "markdown",
   "id": "5e7fa8ef-9b88-44e2-b522-c6a161e6b5a4",
   "metadata": {},
   "source": [
    "# Solucion:"
   ]
  },
  {
   "cell_type": "code",
   "execution_count": 20,
   "id": "06db721f-2748-452f-ba45-8d3f498e593a",
   "metadata": {},
   "outputs": [
    {
     "name": "stdout",
     "output_type": "stream",
     "text": [
      "Bienvenido a este menú\n"
     ]
    },
    {
     "name": "stdin",
     "output_type": "stream",
     "text": [
      "Ingrese el primer numero:  5\n",
      "Ingrese el segundo numero:  6\n"
     ]
    },
    {
     "name": "stdout",
     "output_type": "stream",
     "text": [
      "MENU\n",
      "1. Mostrar una suma de los dos números\n",
      "2. Mostrar una resta de los dos números \"el primero menos el segundo\"\n",
      "3. Mostrar una multiplicación de los dos números\n",
      "4. Salir\n"
     ]
    },
    {
     "name": "stdin",
     "output_type": "stream",
     "text": [
      "Ingrese una opcion:  3\n"
     ]
    },
    {
     "name": "stdout",
     "output_type": "stream",
     "text": [
      "La multiplicacion de los dos numeros es: 30\n"
     ]
    }
   ],
   "source": [
    "print(\"Bienvenido a este menú\")\n",
    "numero1= int(input(\"Ingrese el primer numero: \"))\n",
    "numero2= int(input(\"Ingrese el segundo numero: \"))\n",
    "\n",
    "suma= numero1+numero2\n",
    "resta= numero1-numero2\n",
    "multiplicacion= numero1*numero2\n",
    "\n",
    "print(\"MENU\")\n",
    "print(\"1. Mostrar una suma de los dos números\")\n",
    "print('2. Mostrar una resta de los dos números \"el primero menos el segundo\"')\n",
    "print(\"3. Mostrar una multiplicación de los dos números\")\n",
    "print(\"4. Salir\")\n",
    "opcion= int(input(\"Ingrese una opcion: \"))\n",
    "\n",
    "if opcion== 1:\n",
    "    print(f\"La suma de los dos numeros es: {suma}\")\n",
    "elif opcion== 2:\n",
    "    print(f\"La resta de los dos numeros es: {resta}\")\n",
    "elif opcion== 3:\n",
    "    print(f\"La multiplicacion de los dos numeros es: {multiplicacion}\")\n",
    "elif opcion== 4:\n",
    "    print(\"Gracias por su visita.\")\n",
    "else:\n",
    "    print(\"Opcion incorrecta, Gracias por su visita.\")"
   ]
  },
  {
   "cell_type": "markdown",
   "id": "9b74fb8e-9709-475b-98e3-3b5f5df74a80",
   "metadata": {
    "tags": []
   },
   "source": [
    "# Problema 8:\n",
    "Supongamos que estás en un país donde se acostumbra desayunar entre las 7:00 y las 8:00, almorzar\n",
    "entre las 12:00 y las 13:00 y cenar entre las 18:00 y las 19:00.\n",
    "Implemente un programa que solicite al usuario una hora y le indique si es la hora del desayuno, la\n",
    "hora del almuerzo o la hora de la cena. Si no es hora de comer, no envíes nada.\n",
    "Suponga que la entrada del usuario se formatea en formato de 24 horas como #:## o ##:##. Y\n",
    "suponga que el rango de tiempo de cada comida es inclusivo. Por ejemplo, ya sean las 7:00, las 7:01,\n",
    "las 7:59 o las 8:00, o en cualquier momento intermedio, es hora de desayunar.\n",
    "Nota:\n",
    "Recuerde que cuando solicitamos datos a través de un input este nos devuelve un str, quizás le sea\n",
    "más fácil realizar la comparación convirtiendo los datos a float.\n",
    "Ejemplo :\n",
    "Dato ingresado: “7:30” se puede interpretar como 7.5\n",
    "Para ello, podemos usar el siguiente método de cadena para facilitar la obtención del dato. Puede\n",
    "revisar otros métodos de cadena en el siguiente link.\n",
    "time = input(“hora”)\n",
    "hours, minutes = time.split(\":\")]"
   ]
  },
  {
   "cell_type": "markdown",
   "id": "6870a6b4-defb-4443-a04b-6d8fd4f977b2",
   "metadata": {},
   "source": [
    "# Solucion:"
   ]
  },
  {
   "cell_type": "code",
   "execution_count": 37,
   "id": "298646ed-b82a-4daf-ba4c-e9c7725e8c91",
   "metadata": {
    "tags": []
   },
   "outputs": [
    {
     "name": "stdin",
     "output_type": "stream",
     "text": [
      "Ingrese la hora en formato HH:MM:  12:00\n"
     ]
    },
    {
     "name": "stdout",
     "output_type": "stream",
     "text": [
      "Es hora del almuerzo\n"
     ]
    }
   ],
   "source": [
    "tiempo= input(\"Ingrese la hora en formato HH:MM: \")\n",
    "hours, minutes = map(int, tiempo.split(\":\"))\n",
    "\n",
    "horaMinutos = hours * 60 + minutes\n",
    "\n",
    "desayunoInicio, desayunoFin = 7 * 60, 8 * 60\n",
    "almuerzoInicio, almuerzoFin = 12 * 60, 13 * 60\n",
    "cenaInicio, cenaFin = 18 * 60, 19 * 60\n",
    "\n",
    "if desayunoInicio <= horaMinutos and horaMinutos <= desayunoFin:\n",
    "    print(\"Es hora del desayuno\")\n",
    "elif almuerzoInicio <= horaMinutos and horaMinutos <= almuerzoFin:\n",
    "    print(\"Es hora del almuerzo\")\n",
    "elif cenaInicio <= horaMinutos and horaMinutos <= cenaFin:\n",
    "    print(\"Es hora de la cena\")"
   ]
  },
  {
   "cell_type": "markdown",
   "id": "a477fca7-0cae-486f-a068-7b068294bc9a",
   "metadata": {},
   "source": [
    "# Problema 9:\n",
    "Escriba un programa que, dada una lista, devuelve una nueva lista cuyo contenido sea igual a la\n",
    "original pero invertida. Así, dada la lista ['Di', 'buen', 'día', 'a', 'papa'], deberá devolver ['papa', 'a',\n",
    "'día', 'buen', 'Di']."
   ]
  },
  {
   "cell_type": "markdown",
   "id": "8fd6ffb0-3dd5-407e-a5d8-c37fc009016f",
   "metadata": {},
   "source": [
    "# Solucion:"
   ]
  },
  {
   "cell_type": "code",
   "execution_count": 30,
   "id": "6c065d4e-0001-475a-855b-b0a30774b66c",
   "metadata": {},
   "outputs": [
    {
     "name": "stdout",
     "output_type": "stream",
     "text": [
      "La lista invertida es: ['papa', 'a', 'día', 'buen', 'Di']\n"
     ]
    }
   ],
   "source": [
    "lista= ['Di', 'buen', 'día', 'a', 'papa']\n",
    "listainvertida= lista[::-1]\n",
    "\n",
    "print(f\"La lista invertida es: {listainvertida}\")\n"
   ]
  },
  {
   "cell_type": "markdown",
   "id": "9b721300-4839-48af-8ef4-6b0f45b6d295",
   "metadata": {},
   "source": [
    "# Problema 10:\n",
    "Escriba un programa para imprimir una lista específica después de eliminar los elementos que se\n",
    "encuentran en la posición 0, 4 y 5.\n",
    "lista de muestra: ['Rojo', 'Verde', 'Blanco', 'Negro', 'Rosa', 'Amarillo']\n",
    "Resultado esperado: ['Verde', 'Blanco', 'Negro']"
   ]
  },
  {
   "cell_type": "markdown",
   "id": "f2ce5b89-8458-46e6-8c25-b6e3f53cb8e1",
   "metadata": {},
   "source": [
    "# Solucion:"
   ]
  },
  {
   "cell_type": "code",
   "execution_count": 33,
   "id": "785354c0-4893-4067-9985-8fdbbde411e1",
   "metadata": {},
   "outputs": [
    {
     "name": "stdout",
     "output_type": "stream",
     "text": [
      "['Verde', 'Blanco', 'Negro']\n"
     ]
    }
   ],
   "source": [
    "lista= ['Rojo', 'Verde', 'Blanco', 'Negro', 'Rosa', 'Amarillo']\n",
    "\n",
    "lista.remove('Rojo')\n",
    "lista.remove('Rosa')\n",
    "lista.remove('Amarillo')\n",
    "\n",
    "print(lista)\n"
   ]
  },
  {
   "cell_type": "markdown",
   "id": "da4b1332-1016-4f88-a007-8140a81bdb8a",
   "metadata": {},
   "source": [
    "# Problema 11:\n",
    "Escriba un programa Python que se encargue de eliminar los elementos duplicados de la siguiente\n",
    "lista. Su programa debe retornar otra lista sin los duplicados.\n",
    "Lista original: [1, 1, 2, 3, 4, 4, 5, 1]\n",
    "Lista procesada: [1, 2, 3, 4,, 5]"
   ]
  },
  {
   "cell_type": "markdown",
   "id": "2f72626f-de7e-45d4-822a-1247c742a568",
   "metadata": {},
   "source": [
    "# Solucion:"
   ]
  },
  {
   "cell_type": "code",
   "execution_count": 34,
   "id": "21559771-bae7-45dd-8e46-e3c9dfbf5363",
   "metadata": {},
   "outputs": [
    {
     "name": "stdout",
     "output_type": "stream",
     "text": [
      "[1, 2, 3, 4, 5]\n"
     ]
    }
   ],
   "source": [
    "lista= [1, 1, 2, 3, 4, 4, 5, 1]\n",
    "\n",
    "listaFinal = list(set(lista))\n",
    "\n",
    "print(listaFinal)"
   ]
  },
  {
   "cell_type": "markdown",
   "id": "7ce6c139-e25b-4196-9db2-486148e3b35d",
   "metadata": {},
   "source": [
    "# Problema 12:\n",
    "La mayoría de los archivos tienen extensiones de archivo, el cual es un sufijo que comienza con un\n",
    "punto (.) al final de su nombre. Por ejemplo, los nombres de archivo para GIF terminan en .gif y los\n",
    "nombres de archivo para JPEG terminan en .jpg o .jpeg. Mientras que en los sistemas operativos\n",
    "como Windows, el tipo de archivo le sirve al computador abrir el archivo en el formato apropiado, en\n",
    "la web esto es distinto. Los navegadores web, por el contrario, se basan en tipos de medios,\n",
    "anteriormente conocidos como tipos MIME, para determinar cómo mostrar los archivos que viven en\n",
    "la web.\n",
    "Implemente un programa que solicite al usuario el nombre de un archivo y luego genere el tipo de\n",
    "archivo MIME correspondiente. Si el nombre del archivo termina en cualquiera de estos sufijos (sin\n",
    "importar el uso de mayúsculas y minúsculas) :\n",
    "- .gif\n",
    "- .jpg\n",
    "- .jpeg\n",
    "- .png\n",
    "- .pdf\n",
    "- .txt\n",
    "- .zip\n",
    "\n",
    "Si el nombre del archivo termina con algún otro sufijo que no se encuentra en la lista o no tiene\n",
    "ningún sufijo, en su lugar su programa deberá devolver application/octet-stream.\n",
    "Ejemplos:\n",
    "Nombre Archivo: happy.jpg Salida Esperada: image/jpeg\n",
    "Nombre Archivo: document.pdf Salida Esperada: application/pdf\n",
    "Para conocer los tipos MIME a utilizar, puede revisar el siguiente enlace.\n",
    "Nota:\n",
    "- El empleo de diccionarios podría ayudar con esta tarea.\n",
    "- El uso de métodos de cadena sería muy útil al momento de separar el nombre del archivo de\n",
    "su extensión"
   ]
  },
  {
   "cell_type": "markdown",
   "id": "5d6c4a49-3e34-4ae5-89c3-3d8fab7aa414",
   "metadata": {},
   "source": [
    "# Solucion:"
   ]
  },
  {
   "cell_type": "code",
   "execution_count": 38,
   "id": "fc75d766-d8f1-436b-8cae-2b23ead1dd54",
   "metadata": {},
   "outputs": [
    {
     "name": "stdin",
     "output_type": "stream",
     "text": [
      "Ingrese el nombre del archivo:  jefree.jpg\n"
     ]
    },
    {
     "name": "stdout",
     "output_type": "stream",
     "text": [
      "Salida Esperada: image/jpeg\n"
     ]
    }
   ],
   "source": [
    "archivo = input(\"Ingrese el nombre del archivo: \")\n",
    "\n",
    "extensiones= {\n",
    "    \".gif\": \"image/gif\",\n",
    "    \".jpg\": \"image/jpeg\",\n",
    "    \".jpeg\": \"image/jpeg\",\n",
    "    \".png\": \"image/png\",\n",
    "    \".pdf\": \"application/pdf\",\n",
    "    \".txt\": \"text/plain\",\n",
    "    \".zip\": \"application/zip\"\n",
    "}\n",
    "\n",
    "extension = archivo[archivo.rfind(\".\"):].lower()\n",
    "\n",
    "extensiones = extensiones.get(extension, \"application/octet-stream\")\n",
    "\n",
    "print(\"Salida Esperada:\", extensiones)"
   ]
  },
  {
   "cell_type": "code",
   "execution_count": null,
   "id": "16cb37ef-8691-499f-bd75-e9410660a7e9",
   "metadata": {},
   "outputs": [],
   "source": []
  }
 ],
 "metadata": {
  "kernelspec": {
   "display_name": "Python 3 (ipykernel)",
   "language": "python",
   "name": "python3"
  },
  "language_info": {
   "codemirror_mode": {
    "name": "ipython",
    "version": 3
   },
   "file_extension": ".py",
   "mimetype": "text/x-python",
   "name": "python",
   "nbconvert_exporter": "python",
   "pygments_lexer": "ipython3",
   "version": "3.10.9"
  }
 },
 "nbformat": 4,
 "nbformat_minor": 5
}
